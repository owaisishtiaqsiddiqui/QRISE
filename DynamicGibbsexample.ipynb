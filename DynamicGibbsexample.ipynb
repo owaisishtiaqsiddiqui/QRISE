{
  "cells": [
    {
      "cell_type": "code",
      "execution_count": null,
      "metadata": {
        "colab": {
          "background_save": true
        },
        "id": "zIJmg8labVI6",
        "outputId": "b7eb74b0-87f8-4253-80c5-4b935791f4b3"
      },
      "outputs": [
        {
          "name": "stdout",
          "output_type": "stream",
          "text": [
            "Collecting qiskit\n",
            "  Downloading qiskit-1.0.2-cp38-abi3-manylinux_2_17_x86_64.manylinux2014_x86_64.whl (5.6 MB)\n",
            "\u001b[2K     \u001b[90m━━━━━━━━━━━━━━━━━━━━━━━━━━━━━━━━━━━━━━━━\u001b[0m \u001b[32m5.6/5.6 MB\u001b[0m \u001b[31m18.4 MB/s\u001b[0m eta \u001b[36m0:00:00\u001b[0m\n",
            "\u001b[?25hCollecting rustworkx>=0.14.0 (from qiskit)\n",
            "  Downloading rustworkx-0.14.2-cp310-cp310-manylinux_2_17_x86_64.manylinux2014_x86_64.whl (2.1 MB)\n",
            "\u001b[2K     \u001b[90m━━━━━━━━━━━━━━━━━━━━━━━━━━━━━━━━━━━━━━━━\u001b[0m \u001b[32m2.1/2.1 MB\u001b[0m \u001b[31m31.9 MB/s\u001b[0m eta \u001b[36m0:00:00\u001b[0m\n",
            "\u001b[?25hRequirement already satisfied: numpy<2,>=1.17 in /usr/local/lib/python3.10/dist-packages (from qiskit) (1.25.2)\n",
            "Requirement already satisfied: scipy>=1.5 in /usr/local/lib/python3.10/dist-packages (from qiskit) (1.11.4)\n",
            "Requirement already satisfied: sympy>=1.3 in /usr/local/lib/python3.10/dist-packages (from qiskit) (1.12)\n",
            "Collecting dill>=0.3 (from qiskit)\n",
            "  Downloading dill-0.3.8-py3-none-any.whl (116 kB)\n",
            "\u001b[2K     \u001b[90m━━━━━━━━━━━━━━━━━━━━━━━━━━━━━━━━━━━━━━━━\u001b[0m \u001b[32m116.3/116.3 kB\u001b[0m \u001b[31m12.0 MB/s\u001b[0m eta \u001b[36m0:00:00\u001b[0m\n",
            "\u001b[?25hRequirement already satisfied: python-dateutil>=2.8.0 in /usr/local/lib/python3.10/dist-packages (from qiskit) (2.8.2)\n",
            "Collecting stevedore>=3.0.0 (from qiskit)\n",
            "  Downloading stevedore-5.2.0-py3-none-any.whl (49 kB)\n",
            "\u001b[2K     \u001b[90m━━━━━━━━━━━━━━━━━━━━━━━━━━━━━━━━━━━━━━━━\u001b[0m \u001b[32m49.7/49.7 kB\u001b[0m \u001b[31m4.4 MB/s\u001b[0m eta \u001b[36m0:00:00\u001b[0m\n",
            "\u001b[?25hRequirement already satisfied: typing-extensions in /usr/local/lib/python3.10/dist-packages (from qiskit) (4.10.0)\n",
            "Collecting symengine>=0.11 (from qiskit)\n",
            "  Downloading symengine-0.11.0-cp310-cp310-manylinux_2_12_x86_64.manylinux2010_x86_64.whl (39.4 MB)\n",
            "\u001b[2K     \u001b[90m━━━━━━━━━━━━━━━━━━━━━━━━━━━━━━━━━━━━━━━━\u001b[0m \u001b[32m39.4/39.4 MB\u001b[0m \u001b[31m15.7 MB/s\u001b[0m eta \u001b[36m0:00:00\u001b[0m\n",
            "\u001b[?25hRequirement already satisfied: six>=1.5 in /usr/local/lib/python3.10/dist-packages (from python-dateutil>=2.8.0->qiskit) (1.16.0)\n",
            "Collecting pbr!=2.1.0,>=2.0.0 (from stevedore>=3.0.0->qiskit)\n",
            "  Downloading pbr-6.0.0-py2.py3-none-any.whl (107 kB)\n",
            "\u001b[2K     \u001b[90m━━━━━━━━━━━━━━━━━━━━━━━━━━━━━━━━━━━━━━━━\u001b[0m \u001b[32m107.5/107.5 kB\u001b[0m \u001b[31m10.2 MB/s\u001b[0m eta \u001b[36m0:00:00\u001b[0m\n",
            "\u001b[?25hRequirement already satisfied: mpmath>=0.19 in /usr/local/lib/python3.10/dist-packages (from sympy>=1.3->qiskit) (1.3.0)\n",
            "Installing collected packages: symengine, rustworkx, pbr, dill, stevedore, qiskit\n",
            "Successfully installed dill-0.3.8 pbr-6.0.0 qiskit-1.0.2 rustworkx-0.14.2 stevedore-5.2.0 symengine-0.11.0\n"
          ]
        }
      ],
      "source": [
        "!pip install qiskit"
      ]
    },
    {
      "cell_type": "code",
      "source": [
        "!pip install pylatexenc"
      ],
      "metadata": {
        "colab": {
          "base_uri": "https://localhost:8080/"
        },
        "id": "KIk9Uyqkcmni",
        "outputId": "d0bcb684-0498-4a7c-9056-3afcccc18380"
      },
      "execution_count": 3,
      "outputs": [
        {
          "output_type": "stream",
          "name": "stdout",
          "text": [
            "Collecting pylatexenc\n",
            "  Downloading pylatexenc-2.10.tar.gz (162 kB)\n",
            "\u001b[2K     \u001b[90m━━━━━━━━━━━━━━━━━━━━━━━━━━━━━━━━━━━━━━━━\u001b[0m \u001b[32m162.6/162.6 kB\u001b[0m \u001b[31m1.3 MB/s\u001b[0m eta \u001b[36m0:00:00\u001b[0m\n",
            "\u001b[?25h  Preparing metadata (setup.py) ... \u001b[?25l\u001b[?25hdone\n",
            "Building wheels for collected packages: pylatexenc\n",
            "  Building wheel for pylatexenc (setup.py) ... \u001b[?25l\u001b[?25hdone\n",
            "  Created wheel for pylatexenc: filename=pylatexenc-2.10-py3-none-any.whl size=136816 sha256=ad65fe16f59fa84d85af1bf01987b621c9cb5e986a8b5213d3119411bb2a3f6d\n",
            "  Stored in directory: /root/.cache/pip/wheels/d3/31/8b/e09b0386afd80cfc556c00408c9aeea5c35c4d484a9c762fd5\n",
            "Successfully built pylatexenc\n",
            "Installing collected packages: pylatexenc\n",
            "Successfully installed pylatexenc-2.10\n"
          ]
        }
      ]
    },
    {
      "cell_type": "code",
      "source": [
        "!pip install qiskit-aer"
      ],
      "metadata": {
        "colab": {
          "base_uri": "https://localhost:8080/"
        },
        "id": "_yAuWNl-h6Tg",
        "outputId": "de1a9e49-4e47-4c03-bd85-3b47024aad3b"
      },
      "execution_count": 8,
      "outputs": [
        {
          "output_type": "stream",
          "name": "stdout",
          "text": [
            "Collecting qiskit-aer\n",
            "  Downloading qiskit_aer-0.13.3-cp310-cp310-manylinux_2_17_x86_64.manylinux2014_x86_64.whl (12.3 MB)\n",
            "\u001b[2K     \u001b[90m━━━━━━━━━━━━━━━━━━━━━━━━━━━━━━━━━━━━━━━━\u001b[0m \u001b[32m12.3/12.3 MB\u001b[0m \u001b[31m41.9 MB/s\u001b[0m eta \u001b[36m0:00:00\u001b[0m\n",
            "\u001b[?25hRequirement already satisfied: qiskit>=0.45.0 in /usr/local/lib/python3.10/dist-packages (from qiskit-aer) (1.0.2)\n",
            "Requirement already satisfied: numpy>=1.16.3 in /usr/local/lib/python3.10/dist-packages (from qiskit-aer) (1.25.2)\n",
            "Requirement already satisfied: scipy>=1.0 in /usr/local/lib/python3.10/dist-packages (from qiskit-aer) (1.11.4)\n",
            "Requirement already satisfied: psutil>=5 in /usr/local/lib/python3.10/dist-packages (from qiskit-aer) (5.9.5)\n",
            "Requirement already satisfied: rustworkx>=0.14.0 in /usr/local/lib/python3.10/dist-packages (from qiskit>=0.45.0->qiskit-aer) (0.14.2)\n",
            "Requirement already satisfied: sympy>=1.3 in /usr/local/lib/python3.10/dist-packages (from qiskit>=0.45.0->qiskit-aer) (1.12)\n",
            "Requirement already satisfied: dill>=0.3 in /usr/local/lib/python3.10/dist-packages (from qiskit>=0.45.0->qiskit-aer) (0.3.8)\n",
            "Requirement already satisfied: python-dateutil>=2.8.0 in /usr/local/lib/python3.10/dist-packages (from qiskit>=0.45.0->qiskit-aer) (2.8.2)\n",
            "Requirement already satisfied: stevedore>=3.0.0 in /usr/local/lib/python3.10/dist-packages (from qiskit>=0.45.0->qiskit-aer) (5.2.0)\n",
            "Requirement already satisfied: typing-extensions in /usr/local/lib/python3.10/dist-packages (from qiskit>=0.45.0->qiskit-aer) (4.10.0)\n",
            "Requirement already satisfied: symengine>=0.11 in /usr/local/lib/python3.10/dist-packages (from qiskit>=0.45.0->qiskit-aer) (0.11.0)\n",
            "Requirement already satisfied: six>=1.5 in /usr/local/lib/python3.10/dist-packages (from python-dateutil>=2.8.0->qiskit>=0.45.0->qiskit-aer) (1.16.0)\n",
            "Requirement already satisfied: pbr!=2.1.0,>=2.0.0 in /usr/local/lib/python3.10/dist-packages (from stevedore>=3.0.0->qiskit>=0.45.0->qiskit-aer) (6.0.0)\n",
            "Requirement already satisfied: mpmath>=0.19 in /usr/local/lib/python3.10/dist-packages (from sympy>=1.3->qiskit>=0.45.0->qiskit-aer) (1.3.0)\n",
            "Installing collected packages: qiskit-aer\n",
            "Successfully installed qiskit-aer-0.13.3\n"
          ]
        }
      ]
    },
    {
      "cell_type": "code",
      "execution_count": 1,
      "metadata": {
        "id": "ByJFSXXGbZ54",
        "colab": {
          "base_uri": "https://localhost:8080/",
          "height": 191
        },
        "outputId": "74a0a997-1ced-4146-8ea1-4c2c95c2ae2d"
      },
      "outputs": [
        {
          "output_type": "execute_result",
          "data": {
            "text/plain": [
              "<Figure size 537.926x200.667 with 1 Axes>"
            ],
            "image/png": "[encoded data removed]"
          },
          "metadata": {},
          "execution_count": 1
        }
      ],
      "source": [
        "from qiskit import QuantumCircuit\n",
        "from qiskit.circuit import QuantumRegister, ClassicalRegister\n",
        "\n",
        "qr = QuantumRegister(1)\n",
        "cr = ClassicalRegister(2)\n",
        "qc = QuantumCircuit(qr, cr)\n",
        "\n",
        "# unpack the qubit and classical bits from the registers\n",
        "(q0,) = qr\n",
        "b0, b1 = cr\n",
        "\n",
        "# apply Hadamard\n",
        "qc.h(q0)\n",
        "# measure\n",
        "qc.measure(q0, b0)\n",
        "\n",
        "# begin if test block. the contents of the block are executed if b0 == 1\n",
        "with qc.if_test((b0, 1)):\n",
        "    # if the condition is satisfied (b0 == 1), then flip the bit back to 0\n",
        "    qc.x(q0)\n",
        "# finally, measure q0 again\n",
        "qc.measure(q0, b1)\n",
        "\n",
        "qc.draw(output=\"mpl\", idle_wires=False)"
      ]
    },
    {
      "cell_type": "code",
      "source": [
        "qr = QuantumRegister(2)\n",
        "cr = ClassicalRegister(2)\n",
        "\n",
        "q0, q1 = qr\n",
        "b0, b1 = cr\n",
        "\n",
        "qc = QuantumCircuit(qr, cr)\n",
        "qc.h(q0)\n",
        "qc.measure(q0, b0)\n",
        "\n",
        "with qc.if_test((b0, 0)) as else_:\n",
        "    qc.x(q1)\n",
        "with else_:\n",
        "    qc.h(q1)\n",
        "\n",
        "\n",
        "qc.measure(q1, b1)\n",
        "qc.draw(output=\"mpl\", idle_wires=False)"
      ],
      "metadata": {
        "colab": {
          "base_uri": "https://localhost:8080/",
          "height": 255
        },
        "id": "gkDYaxNcc4WC",
        "outputId": "dbdf71e6-17e5-446b-a4cd-bfcf79e957f5"
      },
      "execution_count": 2,
      "outputs": [
        {
          "output_type": "execute_result",
          "data": {
            "text/plain": [
              "<Figure size 723.581x284.278 with 1 Axes>"
            ],
            "image/png": "[encoded data removed]"
          },
          "metadata": {},
          "execution_count": 2
        }
      ]
    },
    {
      "cell_type": "code",
      "source": [
        "from qiskit.quantum_info import Pauli, SparsePauliOp, Statevector, StabilizerState, Clifford\n",
        "from qiskit import QuantumCircuit\n",
        "from qiskit.quantum_info.analysis import Z2Symmetries\n",
        "\n",
        "# Define the XX operator\n",
        "X = Pauli('X')\n",
        "operator = X ^ X\n",
        "print(\"As Pauli Op: \", operator)\n",
        "operator = SparsePauliOp('XX')\n",
        "print(\"As Sparse Pauli Op: \", operator)\n",
        "\n",
        "# Define a more complex operator\n",
        "operator = SparsePauliOp.from_list([(\"IZI\", 0.39), (\"IXX\", 0.5)])\n",
        "print(\"As Sparse Pauli Op: \", operator)\n",
        "\n",
        "# Define the HH operator\n",
        "qc = QuantumCircuit(2)\n",
        "qc.h(0)\n",
        "qc.h(1)\n",
        "print(qc)\n",
        "\n",
        "operator = Clifford(qc).to_operator()\n",
        "print(\"Operator: \", operator)\n",
        "\n",
        "# Stabilizer states\n",
        "qc_zero = QuantumCircuit(1)\n",
        "qc_one = qc_zero.copy()\n",
        "qc_one.x(0)\n",
        "state1 = Statevector(qc_zero) ^ Statevector(qc_one)\n",
        "print(\"State 1: \", state1)\n",
        "\n",
        "qc_plus = qc_zero.copy()\n",
        "qc_plus.h(0)\n",
        "qc_minus = qc_one.copy()\n",
        "qc_minus.h(0)\n",
        "state2 = StabilizerState(qc_plus) ^ StabilizerState(qc_minus)\n",
        "print(\"State 2: \", state2)\n",
        "\n",
        "# PauliSumOp\n",
        "qubit_op = SparsePauliOp(Pauli(\"XYZY\"), coeffs=[-6j])\n",
        "print(repr(qubit_op))\n",
        "\n",
        "#  Z2Symmetries and TaperedPauliSumOp\n",
        "qubit_op = SparsePauliOp.from_list(\n",
        "    [\n",
        "        (\"II\", -1.0537076071291125),\n",
        "        (\"IZ\", 0.393983679438514),\n",
        "        (\"ZI\", -0.39398367943851387),\n",
        "        (\"ZZ\", -0.01123658523318205),\n",
        "        (\"XX\", 0.1812888082114961),\n",
        "    ]\n",
        ")\n",
        "z2_symmetries = Z2Symmetries.find_z2_symmetries(qubit_op)\n",
        "print(z2_symmetries)\n",
        "\n",
        "tapered_op = z2_symmetries.taper(qubit_op)\n",
        "print(\"Tapered Op from Z2 symmetries: \", tapered_op)\n"
      ],
      "metadata": {
        "colab": {
          "base_uri": "https://localhost:8080/"
        },
        "id": "0HqS_oYoe8Y_",
        "outputId": "7256034b-3dbf-4450-ccae-c202d47123a8"
      },
      "execution_count": 9,
      "outputs": [
        {
          "output_type": "stream",
          "name": "stdout",
          "text": [
            "As Pauli Op:  XX\n",
            "As Sparse Pauli Op:  SparsePauliOp(['XX'],\n",
            "              coeffs=[1.+0.j])\n",
            "As Sparse Pauli Op:  SparsePauliOp(['IZI', 'IXX'],\n",
            "              coeffs=[0.39+0.j, 0.5 +0.j])\n",
            "     ┌───┐\n",
            "q_0: ┤ H ├\n",
            "     ├───┤\n",
            "q_1: ┤ H ├\n",
            "     └───┘\n",
            "Operator:  Operator([[ 0.5+0.j,  0.5+0.j,  0.5+0.j,  0.5+0.j],\n",
            "          [ 0.5+0.j, -0.5+0.j,  0.5+0.j, -0.5+0.j],\n",
            "          [ 0.5+0.j,  0.5+0.j, -0.5+0.j, -0.5+0.j],\n",
            "          [ 0.5+0.j, -0.5+0.j, -0.5+0.j,  0.5+0.j]],\n",
            "         input_dims=(2, 2), output_dims=(2, 2))\n",
            "State 1:  Statevector([0.+0.j, 1.+0.j, 0.+0.j, 0.+0.j],\n",
            "            dims=(2, 2))\n",
            "State 2:  StabilizerState(['-IX', '+XI'])\n",
            "SparsePauliOp(['XYZY'],\n",
            "              coeffs=[0.-6.j])\n",
            "Z2 symmetries:\n",
            "Symmetries:\n",
            "ZZ\n",
            "Single-Qubit Pauli X:\n",
            "IX\n",
            "Cliffords:\n",
            "SparsePauliOp(['ZZ', 'IX'],\n",
            "              coeffs=[0.70710678+0.j, 0.70710678+0.j])\n",
            "Qubit index:\n",
            "[0]\n",
            "Tapering values:\n",
            "  - Possible values: [1], [-1]\n",
            "Tapered Op from Z2 symmetries:  [SparsePauliOp(['I', 'X'],\n",
            "              coeffs=[-1.06494419+0.j,  0.18128881+0.j]), SparsePauliOp(['I', 'Z', 'X'],\n",
            "              coeffs=[-1.04247102+0.j, -0.78796736+0.j, -0.18128881+0.j])]\n"
          ]
        }
      ]
    },
    {
      "cell_type": "code",
      "source": [
        "\n",
        "from qiskit.opflow import CircuitStateFn, PauliSumOp\n",
        "from qiskit.utils import QuantumInstance\n",
        "from qiskit.algorithms import EvolvedOp\n",
        "\n",
        "# Define Hamiltonian\n",
        "#  Hamiltonian for a simple system\n",
        "hamiltonian = PauliSumOp.from_list([('ZI', -1.0), ('IZ', -1.0), ('ZZ', 0.5)])\n",
        "\n",
        "# Step 2: Define initial state\n",
        "# Prepare a simple initial state\n",
        "initial_state = CircuitStateFn(QuantumCircuit(2).h(0))\n",
        "\n",
        "# Step 3: Simulate time evolution\n",
        "# Example: Evolve the initial state under the Hamiltonian\n",
        "time_evolution = EvolvedOp(initial_state, hamiltonian)\n",
        "\n",
        "# Set up the quantum instance for simulation\n",
        "backend = Aer.get_backend('statevector_simulator')\n",
        "quantum_instance = QuantumInstance(backend)\n",
        "\n",
        "# Execute the simulation\n",
        "result = time_evolution.eval()\n",
        "\n",
        "# Step 4: Calculate Gibbs free energy\n",
        "# Example: Calculate Gibbs free energy assuming T=1\n",
        "temperature = 1.0\n",
        "gibbs_free_energy = result.adjoint().compose(hamiltonian).eval() - temperature * result.expectation_value(hamiltonian.adjoint())\n",
        "\n",
        "print(\"Estimated Gibbs Free Energy:\", gibbs_free_energy)\n"
      ],
      "metadata": {
        "colab": {
          "base_uri": "https://localhost:8080/",
          "height": 399
        },
        "id": "RbPRcx8yfTCH",
        "outputId": "da5de35c-e688-4df2-a1ed-744e9557123e"
      },
      "execution_count": 5,
      "outputs": [
        {
          "output_type": "error",
          "ename": "ModuleNotFoundError",
          "evalue": "No module named 'qiskit.opflow'",
          "traceback": [
            "\u001b[0;31m---------------------------------------------------------------------------\u001b[0m",
            "\u001b[0;31mModuleNotFoundError\u001b[0m                       Traceback (most recent call last)",
            "\u001b[0;32m<ipython-input-5-90d4a78bdc20>\u001b[0m in \u001b[0;36m<cell line: 1>\u001b[0;34m()\u001b[0m\n\u001b[0;32m----> 1\u001b[0;31m \u001b[0;32mfrom\u001b[0m \u001b[0mqiskit\u001b[0m\u001b[0;34m.\u001b[0m\u001b[0mopflow\u001b[0m \u001b[0;32mimport\u001b[0m \u001b[0mCircuitStateFn\u001b[0m\u001b[0;34m,\u001b[0m \u001b[0mPauliSumOp\u001b[0m\u001b[0;34m\u001b[0m\u001b[0;34m\u001b[0m\u001b[0m\n\u001b[0m\u001b[1;32m      2\u001b[0m \u001b[0;32mfrom\u001b[0m \u001b[0mqiskit\u001b[0m\u001b[0;34m.\u001b[0m\u001b[0mutils\u001b[0m \u001b[0;32mimport\u001b[0m \u001b[0mQuantumInstance\u001b[0m\u001b[0;34m\u001b[0m\u001b[0;34m\u001b[0m\u001b[0m\n\u001b[1;32m      3\u001b[0m \u001b[0;32mfrom\u001b[0m \u001b[0mqiskit\u001b[0m\u001b[0;34m.\u001b[0m\u001b[0malgorithms\u001b[0m \u001b[0;32mimport\u001b[0m \u001b[0mEvolvedOp\u001b[0m\u001b[0;34m\u001b[0m\u001b[0;34m\u001b[0m\u001b[0m\n\u001b[1;32m      4\u001b[0m \u001b[0;34m\u001b[0m\u001b[0m\n\u001b[1;32m      5\u001b[0m \u001b[0;31m# Step 1: Define Hamiltonian\u001b[0m\u001b[0;34m\u001b[0m\u001b[0;34m\u001b[0m\u001b[0m\n",
            "\u001b[0;31mModuleNotFoundError\u001b[0m: No module named 'qiskit.opflow'",
            "",
            "\u001b[0;31m---------------------------------------------------------------------------\u001b[0;32m\nNOTE: If your import is failing due to a missing package, you can\nmanually install dependencies using either !pip or !apt.\n\nTo view examples of installing some common dependencies, click the\n\"Open Examples\" button below.\n\u001b[0;31m---------------------------------------------------------------------------\u001b[0m\n"
          ],
          "errorDetails": {
            "actions": [
              {
                "action": "open_url",
                "actionText": "Open Examples",
                "url": "/notebooks/snippets/importing_libraries.ipynb"
              }
            ]
          }
        }
      ]
    },
    {
      "cell_type": "code",
      "source": [
        "\n",
        "from qiskit.opflow import CircuitStateFn, PauliSumOp\n",
        "from qiskit.utils import QuantumInstance\n",
        "from qiskit.algorithms import EvolvedOp\n",
        "import numpy as np\n",
        "\n",
        "# Step 1: Define time-dependent Hamiltonian\n",
        "def time_dependent_hamiltonian(t):\n",
        "    # Example: time-dependent Hamiltonian for a simple system\n",
        "    return PauliSumOp.from_list([('ZI', -1.0 * np.cos(t)), ('IZ', -1.0 * np.sin(t)), ('ZZ', 0.5 * np.cos(t))])\n",
        "\n",
        "# Step 2: Create dynamic circuits\n",
        "def create_dynamic_circuit(t):\n",
        "    circuit = QuantumCircuit(2)\n",
        "    # Example: Apply time-dependent operations\n",
        "    circuit.rz(t, 0)\n",
        "    circuit.rx(t, 1)\n",
        "    return CircuitStateFn(circuit)\n",
        "\n",
        "# Step 3: Simulate time evolution\n",
        "# Example: Evolve the initial state under the time-dependent Hamiltonian\n",
        "evolution_op = EvolvedOp(create_dynamic_circuit, time_dependent_hamiltonian)\n",
        "\n",
        "# Set up the quantum instance for simulation\n",
        "backend = Aer.get_backend('statevector_simulator')\n",
        "quantum_instance = QuantumInstance(backend)\n",
        "\n",
        "# Execute the simulation\n",
        "result = evolution_op.eval(0.5)  # Example: Evolve for time t = 0.5\n",
        "\n",
        "# Step 4: Calculate Gibbs free energy\n",
        "# Example: Calculate Gibbs free energy assuming T=1\n",
        "temperature = 1.0\n",
        "gibbs_free_energy = result.adjoint().compose(time_dependent_hamiltonian(0.5)).eval() - temperature * result.expectation_value(time_dependent_hamiltonian(0.5).adjoint())\n",
        "\n",
        "print(\"Estimated Gibbs Free Energy:\", gibbs_free_energy)\n"
      ],
      "metadata": {
        "colab": {
          "base_uri": "https://localhost:8080/",
          "height": 399
        },
        "id": "L6Me4jybg7pW",
        "outputId": "bc706cf4-5bc4-4b52-e827-02841a4c34d4"
      },
      "execution_count": 6,
      "outputs": [
        {
          "output_type": "error",
          "ename": "ModuleNotFoundError",
          "evalue": "No module named 'qiskit.opflow'",
          "traceback": [
            "\u001b[0;31m---------------------------------------------------------------------------\u001b[0m",
            "\u001b[0;31mModuleNotFoundError\u001b[0m                       Traceback (most recent call last)",
            "\u001b[0;32m<ipython-input-6-e364bcd23c09>\u001b[0m in \u001b[0;36m<cell line: 1>\u001b[0;34m()\u001b[0m\n\u001b[0;32m----> 1\u001b[0;31m \u001b[0;32mfrom\u001b[0m \u001b[0mqiskit\u001b[0m\u001b[0;34m.\u001b[0m\u001b[0mopflow\u001b[0m \u001b[0;32mimport\u001b[0m \u001b[0mCircuitStateFn\u001b[0m\u001b[0;34m,\u001b[0m \u001b[0mPauliSumOp\u001b[0m\u001b[0;34m\u001b[0m\u001b[0;34m\u001b[0m\u001b[0m\n\u001b[0m\u001b[1;32m      2\u001b[0m \u001b[0;32mfrom\u001b[0m \u001b[0mqiskit\u001b[0m\u001b[0;34m.\u001b[0m\u001b[0mutils\u001b[0m \u001b[0;32mimport\u001b[0m \u001b[0mQuantumInstance\u001b[0m\u001b[0;34m\u001b[0m\u001b[0;34m\u001b[0m\u001b[0m\n\u001b[1;32m      3\u001b[0m \u001b[0;32mfrom\u001b[0m \u001b[0mqiskit\u001b[0m\u001b[0;34m.\u001b[0m\u001b[0malgorithms\u001b[0m \u001b[0;32mimport\u001b[0m \u001b[0mEvolvedOp\u001b[0m\u001b[0;34m\u001b[0m\u001b[0;34m\u001b[0m\u001b[0m\n\u001b[1;32m      4\u001b[0m \u001b[0;32mimport\u001b[0m \u001b[0mnumpy\u001b[0m \u001b[0;32mas\u001b[0m \u001b[0mnp\u001b[0m\u001b[0;34m\u001b[0m\u001b[0;34m\u001b[0m\u001b[0m\n\u001b[1;32m      5\u001b[0m \u001b[0;34m\u001b[0m\u001b[0m\n",
            "\u001b[0;31mModuleNotFoundError\u001b[0m: No module named 'qiskit.opflow'",
            "",
            "\u001b[0;31m---------------------------------------------------------------------------\u001b[0;32m\nNOTE: If your import is failing due to a missing package, you can\nmanually install dependencies using either !pip or !apt.\n\nTo view examples of installing some common dependencies, click the\n\"Open Examples\" button below.\n\u001b[0;31m---------------------------------------------------------------------------\u001b[0m\n"
          ],
          "errorDetails": {
            "actions": [
              {
                "action": "open_url",
                "actionText": "Open Examples",
                "url": "/notebooks/snippets/importing_libraries.ipynb"
              }
            ]
          }
        }
      ]
    },
    {
      "cell_type": "code",
      "source": [
        "from qiskit import QuantumCircuit, Aer, execute\n",
        "import numpy as np\n",
        "\n",
        "# Step 1: Define time-dependent Hamiltonian\n",
        "def time_dependent_hamiltonian(t):\n",
        "    # Example: time-dependent Hamiltonian for a simple system\n",
        "    # Constructing a matrix representation of the Hamiltonian\n",
        "    hamiltonian_matrix = np.array([\n",
        "        [-np.cos(t), 0, 0, 0],\n",
        "        [0, np.sin(t), 0, 0],\n",
        "        [0, 0, 0, 0],\n",
        "        [0, 0, 0, np.cos(t)]\n",
        "    ])\n",
        "    return hamiltonian_matrix\n",
        "\n",
        "# Step 2: Create dynamic circuits\n",
        "def create_dynamic_circuit(t):\n",
        "    circuit = QuantumCircuit(2)\n",
        "    # Apply time-dependent operations\n",
        "    circuit.rz(t, 0)\n",
        "    circuit.rx(t, 1)\n",
        "    return circuit\n",
        "\n",
        "# Step 3: Simulate time evolution\n",
        "def simulate_time_evolution(t):\n",
        "    # Create the quantum circuit\n",
        "    dynamic_circuit = create_dynamic_circuit(t)\n",
        "\n",
        "    # Obtain the time-dependent Hamiltonian matrix\n",
        "    hamiltonian_matrix = time_dependent_hamiltonian(t)\n",
        "\n",
        "    # Simulate the quantum circuit\n",
        "    backend = Aer.get_backend('statevector_simulator')\n",
        "    job = execute(dynamic_circuit, backend)\n",
        "    result = job.result()\n",
        "    statevector = result.get_statevector(dynamic_circuit)\n",
        "\n",
        "    # Apply time evolution using the Hamiltonian matrix\n",
        "    evolved_state = np.dot(hamiltonian_matrix, statevector)\n",
        "\n",
        "    return evolved_state\n",
        "\n",
        "# Step 4: Calculate Gibbs free energy\n",
        "def calculate_gibbs_free_energy(t, temperature):\n",
        "    evolved_state = simulate_time_evolution(t)\n",
        "    hamiltonian_matrix = time_dependent_hamiltonian(t)\n",
        "    gibbs_free_energy = np.dot(evolved_state.conj().T, hamiltonian_matrix).trace() - temperature * np.log(np.trace(np.exp(-hamiltonian_matrix / temperature)))\n",
        "    return gibbs_free_energy\n",
        "\n",
        "# Example: Calculate Gibbs free energy for time t = 0.5 and temperature T = 1\n",
        "t = 0.5\n",
        "temperature = 1.0\n",
        "gibbs_free_energy = calculate_gibbs_free_energy(t, temperature)\n",
        "\n",
        "print(\"Estimated Gibbs Free Energy:\", gibbs_free_energy)\n",
        "\n",
        "import numpy as np\n",
        "\n",
        "# Step 1: Define time-dependent Hamiltonian\n",
        "def time_dependent_hamiltonian(t):\n",
        "    # Example: time-dependent Hamiltonian for a simple system\n",
        "    # Constructing a matrix representation of the Hamiltonian\n",
        "    hamiltonian_matrix = np.array([\n",
        "        [-np.cos(t), 0, 0, 0],\n",
        "        [0, np.sin(t), 0, 0],\n",
        "        [0, 0, 0, 0],\n",
        "        [0, 0, 0, np.cos(t)]\n",
        "    ])\n",
        "    return hamiltonian_matrix\n",
        "\n",
        "# Step 2: Create dynamic circuits\n",
        "def create_dynamic_circuit(t):\n",
        "    circuit = QuantumCircuit(2)\n",
        "    # Apply time-dependent operations\n",
        "    circuit.rz(t, 0)\n",
        "    circuit.rx(t, 1)\n",
        "    return circuit\n",
        "\n",
        "# Step 3: Simulate time evolution\n",
        "def simulate_time_evolution(t):\n",
        "    # Create the quantum circuit\n",
        "    dynamic_circuit = create_dynamic_circuit(t)\n",
        "\n",
        "    # Obtain the time-dependent Hamiltonian matrix\n",
        "    hamiltonian_matrix = time_dependent_hamiltonian(t)\n",
        "\n",
        "    # Simulate the quantum circuit\n",
        "    backend = Aer.get_backend('statevector_simulator')\n",
        "    job = execute(dynamic_circuit, backend)\n",
        "    result = job.result()\n",
        "    statevector = result.get_statevector(dynamic_circuit)\n",
        "\n",
        "    # Apply time evolution using the Hamiltonian matrix\n",
        "    evolved_state = np.dot(hamiltonian_matrix, statevector)\n",
        "\n",
        "    return evolved_state\n",
        "\n",
        "# Step 4: Calculate Gibbs free energy\n",
        "def calculate_gibbs_free_energy(t, temperature):\n",
        "    evolved_state = simulate_time_evolution(t)\n",
        "    hamiltonian_matrix = time_dependent_hamiltonian(t)\n",
        "    gibbs_free_energy = np.dot(evolved_state.conj().T, hamiltonian_matrix).trace() - temperature * np.log(np.trace(np.exp(-hamiltonian_matrix / temperature)))\n",
        "    return gibbs_free_energy\n",
        "\n",
        "# Example: Calculate Gibbs free energy for time t = 0.5 and temperature T = 1\n",
        "t = 0.5\n",
        "temperature = 1.0\n",
        "gibbs_free_energy = calculate_gibbs_free_energy(t, temperature)\n",
        "\n",
        "print(\"Estimated Gibbs Free Energy:\", gibbs_free_energy)\n"
      ],
      "metadata": {
        "colab": {
          "base_uri": "https://localhost:8080/",
          "height": 399
        },
        "id": "WEnKrIiRkEm1",
        "outputId": "02f074e4-68bd-4ff1-9b66-2950a970e01a"
      },
      "execution_count": 8,
      "outputs": [
        {
          "output_type": "error",
          "ename": "ImportError",
          "evalue": "cannot import name 'Aer' from 'qiskit' (/usr/local/lib/python3.10/dist-packages/qiskit/__init__.py)",
          "traceback": [
            "\u001b[0;31m---------------------------------------------------------------------------\u001b[0m",
            "\u001b[0;31mImportError\u001b[0m                               Traceback (most recent call last)",
            "\u001b[0;32m<ipython-input-8-ed9d4b390e08>\u001b[0m in \u001b[0;36m<cell line: 1>\u001b[0;34m()\u001b[0m\n\u001b[0;32m----> 1\u001b[0;31m \u001b[0;32mfrom\u001b[0m \u001b[0mqiskit\u001b[0m \u001b[0;32mimport\u001b[0m \u001b[0mQuantumCircuit\u001b[0m\u001b[0;34m,\u001b[0m \u001b[0mAer\u001b[0m\u001b[0;34m,\u001b[0m \u001b[0mexecute\u001b[0m\u001b[0;34m\u001b[0m\u001b[0;34m\u001b[0m\u001b[0m\n\u001b[0m\u001b[1;32m      2\u001b[0m \u001b[0;32mimport\u001b[0m \u001b[0mnumpy\u001b[0m \u001b[0;32mas\u001b[0m \u001b[0mnp\u001b[0m\u001b[0;34m\u001b[0m\u001b[0;34m\u001b[0m\u001b[0m\n\u001b[1;32m      3\u001b[0m \u001b[0;34m\u001b[0m\u001b[0m\n\u001b[1;32m      4\u001b[0m \u001b[0;31m# Step 1: Define time-dependent Hamiltonian\u001b[0m\u001b[0;34m\u001b[0m\u001b[0;34m\u001b[0m\u001b[0m\n\u001b[1;32m      5\u001b[0m \u001b[0;32mdef\u001b[0m \u001b[0mtime_dependent_hamiltonian\u001b[0m\u001b[0;34m(\u001b[0m\u001b[0mt\u001b[0m\u001b[0;34m)\u001b[0m\u001b[0;34m:\u001b[0m\u001b[0;34m\u001b[0m\u001b[0;34m\u001b[0m\u001b[0m\n",
            "\u001b[0;31mImportError\u001b[0m: cannot import name 'Aer' from 'qiskit' (/usr/local/lib/python3.10/dist-packages/qiskit/__init__.py)",
            "",
            "\u001b[0;31m---------------------------------------------------------------------------\u001b[0;32m\nNOTE: If your import is failing due to a missing package, you can\nmanually install dependencies using either !pip or !apt.\n\nTo view examples of installing some common dependencies, click the\n\"Open Examples\" button below.\n\u001b[0;31m---------------------------------------------------------------------------\u001b[0m\n"
          ],
          "errorDetails": {
            "actions": [
              {
                "action": "open_url",
                "actionText": "Open Examples",
                "url": "/notebooks/snippets/importing_libraries.ipynb"
              }
            ]
          }
        }
      ]
    }
  ],
  "metadata": {
    "colab": {
      "provenance": []
    },
    "kernelspec": {
      "display_name": "Python 3",
      "name": "python3"
    },
    "language_info": {
      "name": "python"
    }
  },
  "nbformat": 4,
  "nbformat_minor": 0
}